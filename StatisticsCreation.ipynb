{
 "cells": [
  {
   "cell_type": "markdown",
   "metadata": {},
   "source": [
    "# Statistic Creation"
   ]
  },
  {
   "cell_type": "markdown",
   "metadata": {},
   "source": [
    "This notebook is used to create the statistics based on the collected users file."
   ]
  },
  {
   "cell_type": "code",
   "execution_count": 11,
   "metadata": {},
   "outputs": [],
   "source": [
    "import os\n",
    "import json\n",
    "import pandas as pd\n",
    "import numpy as np\n",
    "import matplotlib.pyplot as plt"
   ]
  },
  {
   "cell_type": "code",
   "execution_count": 15,
   "metadata": {
    "collapsed": true
   },
   "outputs": [],
   "source": [
    "path_users = os.path.join(\"users_edited.json\")\n",
    "attributes = [\"Reputation\", \"votes\", \"avotes\", \"qvotes\", \"count_of_answers\", \"count_of_questions\"]"
   ]
  },
  {
   "cell_type": "code",
   "execution_count": 34,
   "metadata": {},
   "outputs": [],
   "source": [
    "def create_histogram(list_, attribute):\n",
    "    attributes = [ int(elem[attribute]) for elem in list_]\n",
    "    #plt.hist(attributes, bins=5)\n",
    "    #plt.show()\n",
    "    return np.histogram(attributes, bins=5)"
   ]
  },
  {
   "cell_type": "code",
   "execution_count": 43,
   "metadata": {
    "scrolled": false
   },
   "outputs": [
    {
     "name": "stdout",
     "output_type": "stream",
     "text": [
      "[7617016     135      32       7       1] [  1.00000000e+00   1.93878000e+05   3.87755000e+05   5.81632000e+05\n",
      "   7.75509000e+05   9.69386000e+05]\n",
      "[7617163      21       5       1       1] [  -154.   13962.2  28078.4  42194.6  56310.8  70427. ]\n",
      "[7617167      16       4       3       1] [ -3.00000000e+01   1.30096000e+04   2.60492000e+04   3.90888000e+04\n",
      "   5.21284000e+04   6.51680000e+04]\n",
      "[7617121      54      12       3       1] [  -154.    5383.8  10921.6  16459.4  21997.2  27535. ]\n",
      "[7617152      28       9       1       1] [     0.    4285.6   8571.2  12856.8  17142.4  21428. ]\n",
      "[7616913     247      24       5       2] [    0.    398.2   796.4  1194.6  1592.8  1991. ]\n"
     ]
    }
   ],
   "source": [
    "# create histograms\n",
    "with open(path_users, 'r') as f:\n",
    "    users_dict = json.load(f)\n",
    "    users = []\n",
    "    for key, val in users_dict.items():\n",
    "        users.append(val)\n",
    "    \n",
    "    for attr in attributes:\n",
    "        numbers, bins = create_histogram(users, attr)\n",
    "        print (numbers, bins)\n",
    "        dict_hist = {}\n",
    "        dict_hist[\"numbers\"] = numbers.tolist()\n",
    "        dict_hist[\"bins\"] = bins.tolist()\n",
    "        \n",
    "        with open( attr + \"_hist.json\", 'w') as r:\n",
    "            json.dump(dict_hist, r)"
   ]
  },
  {
   "cell_type": "code",
   "execution_count": 57,
   "metadata": {},
   "outputs": [
    {
     "name": "stdout",
     "output_type": "stream",
     "text": [
      "{'numbers': [7617016, 135, 32, 7, 1], 'bins': [1.0, 193878.0, 387755.0, 581632.0, 775509.0, 969386.0]}\n",
      "5\n",
      "[list([]) list([]) list([]) list([]) list([])]\n",
      "7617016\n",
      "135\n",
      "32\n",
      "7\n",
      "1\n"
     ]
    }
   ],
   "source": [
    "# create five classes based on reputation\n",
    "class_key = \"Reputation\"\n",
    "with open(class_key + \"_hist.json\", 'r') as f:\n",
    "    hist = json.load(f)\n",
    "    print (hist)\n",
    "    num_classes = len(hist[\"bins\"])-1\n",
    "    print (num_classes)\n",
    "    users_classes = np.empty((num_classes,),dtype=object)\n",
    "    for i in range(users_classes.shape[0]):\n",
    "        users_classes[i] = []\n",
    "    print (users_classes)\n",
    "    \n",
    "    with open(path_users, 'r') as u:\n",
    "        users_dict = json.load(u)\n",
    "        for key, val in users_dict.items():\n",
    "            for i in reversed(range(num_classes)):\n",
    "                if int(val[class_key]) >= hist[\"bins\"][i]:\n",
    "                    users_classes[i].append(val)\n",
    "                    break\n",
    "    \n",
    "    for class_ in users_classes:\n",
    "        print (len(class_))\n"
   ]
  },
  {
   "cell_type": "code",
   "execution_count": null,
   "metadata": {
    "collapsed": true
   },
   "outputs": [],
   "source": [
    "# TODO adapt classes (logarithmic reputation?)"
   ]
  }
 ],
 "metadata": {
  "kernelspec": {
   "display_name": "Python [conda env:dataviz]",
   "language": "python",
   "name": "conda-env-dataviz-py"
  },
  "language_info": {
   "codemirror_mode": {
    "name": "ipython",
    "version": 3
   },
   "file_extension": ".py",
   "mimetype": "text/x-python",
   "name": "python",
   "nbconvert_exporter": "python",
   "pygments_lexer": "ipython3",
   "version": "3.6.2"
  }
 },
 "nbformat": 4,
 "nbformat_minor": 2
}
