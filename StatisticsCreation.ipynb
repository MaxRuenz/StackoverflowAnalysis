{
 "cells": [
  {
   "cell_type": "markdown",
   "metadata": {},
   "source": [
    "# Statistic Creation"
   ]
  },
  {
   "cell_type": "markdown",
   "metadata": {},
   "source": [
    "This notebook is used to create the statistics based on the collected users file."
   ]
  },
  {
   "cell_type": "code",
   "execution_count": 1,
   "metadata": {
    "collapsed": true
   },
   "outputs": [],
   "source": [
    "import os\n",
    "import json\n",
    "import pandas as pd\n",
    "import numpy as np\n",
    "import matplotlib.pyplot as plt"
   ]
  },
  {
   "cell_type": "code",
   "execution_count": 2,
   "metadata": {
    "collapsed": true
   },
   "outputs": [],
   "source": [
    "path_users = os.path.join(\"users_edited.json\")\n",
    "attributes = [\"Reputation\", \"votes\", \"avotes\", \"qvotes\", \"count_of_answers\", \"count_of_questions\"]"
   ]
  },
  {
   "cell_type": "code",
   "execution_count": 4,
   "metadata": {},
   "outputs": [],
   "source": [
    "f = open(path_users, 'r')\n",
    "users_dict = json.load(f)\n",
    "users = []\n",
    "for key, val in users_dict.items():\n",
    "    users.append(val)"
   ]
  },
  {
   "cell_type": "code",
   "execution_count": 50,
   "metadata": {},
   "outputs": [],
   "source": [
    "def create_histogram(list_, attribute, bins=5):\n",
    "    print (attribute)\n",
    "    attributes = [ int(elem[attribute]) for elem in list_]\n",
    "    print (np.where(np.asarray(attributes) == 0)[0].shape[0])\n",
    "    attributes = [x for x in attributes if x != 0]\n",
    "    print (np.where(np.asarray(attributes) == 0)[0].shape[0])\n",
    "    attributes = [ np.log(elem) for elem in attributes]\n",
    "    plt.hist(attributes, bins=bins)\n",
    "    plt.yscale('log')\n",
    "    plt.xticks()\n",
    "    plt.show()\n",
    "    return np.histogram(attributes, bins=bins)"
   ]
  },
  {
   "cell_type": "code",
   "execution_count": null,
   "metadata": {
    "collapsed": true
   },
   "outputs": [],
   "source": [
    "# create histograms    \n",
    "for attr in attributes:\n",
    "    numbers, bins = create_histogram(users, attr)\n",
    "    print (numbers, bins)\n",
    "    dict_hist = {}\n",
    "    dict_hist[\"numbers\"] = numbers.tolist()\n",
    "    dict_hist[\"bins\"] = bins.tolist()\n",
    "\n",
    "    with open( attr + \"_hist.json\", 'w') as r:\n",
    "        json.dump(dict_hist, r)"
   ]
  },
  {
   "cell_type": "code",
   "execution_count": 6,
   "metadata": {
    "collapsed": true
   },
   "outputs": [],
   "source": [
    "def create_ordered_scatter(list_, attribute):\n",
    "    print (attribute)\n",
    "    attributes = [ int(elem[attribute]) for elem in list_ if not int(elem[attribute]) == 1]\n",
    "    attributes = sorted(attributes)\n",
    "    plt.plot(attributes)\n",
    "    plt.yscale('log')\n",
    "    plt.show()"
   ]
  },
  {
   "cell_type": "code",
   "execution_count": 35,
   "metadata": {
    "scrolled": false
   },
   "outputs": [
    {
     "name": "stdout",
     "output_type": "stream",
     "text": [
      "Reputation\n"
     ]
    },
    {
     "data": {
      "image/png": "[encoded data removed]",
      "text/plain": [
       "<matplotlib.figure.Figure at 0x21280b4b390>"
      ]
     },
     "metadata": {},
     "output_type": "display_data"
    },
    {
     "name": "stdout",
     "output_type": "stream",
     "text": [
      "Reputation\n",
      "0\n"
     ]
    },
    {
     "data": {
      "image/png": "[encoded data removed]",
      "text/plain": [
       "<matplotlib.figure.Figure at 0x212fef0c6a0>"
      ]
     },
     "metadata": {},
     "output_type": "display_data"
    },
    {
     "name": "stdout",
     "output_type": "stream",
     "text": [
      "[5207129  891061  772370  400569  220242   91476   27103    6159     973\n",
      "     109]\n",
      "[  1.00000000e+00   4.00000000e+00   1.60000000e+01   6.30000000e+01\n",
      "   2.48000000e+02   9.85000000e+02   3.90700000e+03   1.55080000e+04\n",
      "   6.15460000e+04   2.44257000e+05   9.69386000e+05]\n"
     ]
    }
   ],
   "source": [
    "# create scatters\n",
    "for attr in [\"Reputation\"]:\n",
    "    create_ordered_scatter(users, attr)\n",
    "    hist = (create_histogram(users, attr, bins=None))\n",
    "    print (hist[0])\n",
    "    print (np.rint(np.exp(hist[1])))"
   ]
  },
  {
   "cell_type": "code",
   "execution_count": 51,
   "metadata": {},
   "outputs": [
    {
     "name": "stdout",
     "output_type": "stream",
     "text": [
      "count_of_answers\n"
     ]
    },
    {
     "data": {
      "image/png": "[encoded data removed]",
      "text/plain": [
       "<matplotlib.figure.Figure at 0x212e40d1f98>"
      ]
     },
     "metadata": {},
     "output_type": "display_data"
    },
    {
     "name": "stdout",
     "output_type": "stream",
     "text": [
      "count_of_answers\n",
      "6185087\n",
      "0\n"
     ]
    },
    {
     "data": {
      "image/png": "[encoded data removed]",
      "text/plain": [
       "<matplotlib.figure.Figure at 0x21280c1e208>"
      ]
     },
     "metadata": {},
     "output_type": "display_data"
    },
    {
     "name": "stdout",
     "output_type": "stream",
     "text": [
      "[1004103  229472  124900   53292   15414    3884     907     118      14]\n",
      "[  1.00000000e+00   3.00000000e+00   9.00000000e+00   2.80000000e+01\n",
      "   8.40000000e+01   2.55000000e+02   7.71000000e+02   2.33600000e+03\n",
      "   7.07600000e+03   2.14280000e+04]\n"
     ]
    }
   ],
   "source": [
    "# create scatters\n",
    "for attr in [\"count_of_answers\"]:\n",
    "    create_ordered_scatter(users, attr)\n",
    "    hist = (create_histogram(users, attr, bins=9))\n",
    "    print (hist[0])\n",
    "    print (np.rint(np.exp(hist[1])))"
   ]
  },
  {
   "cell_type": "code",
   "execution_count": 52,
   "metadata": {},
   "outputs": [
    {
     "name": "stdout",
     "output_type": "stream",
     "text": [
      "count_of_questions\n"
     ]
    },
    {
     "data": {
      "image/png": "[encoded data removed]",
      "text/plain": [
       "<matplotlib.figure.Figure at 0x213f03a0898>"
      ]
     },
     "metadata": {},
     "output_type": "display_data"
    },
    {
     "name": "stdout",
     "output_type": "stream",
     "text": [
      "count_of_questions\n",
      "6187616\n",
      "0\n"
     ]
    },
    {
     "data": {
      "image/png": "[encoded data removed]",
      "text/plain": [
       "<matplotlib.figure.Figure at 0x21290a28828>"
      ]
     },
     "metadata": {},
     "output_type": "display_data"
    },
    {
     "name": "stdout",
     "output_type": "stream",
     "text": [
      "[876628 269964 164592  77946  29020   9025   2060    317     23]\n",
      "[  1.00000000e+00   2.00000000e+00   5.00000000e+00   1.30000000e+01\n",
      "   2.90000000e+01   6.80000000e+01   1.58000000e+02   3.68000000e+02\n",
      "   8.56000000e+02   1.99100000e+03]\n"
     ]
    }
   ],
   "source": [
    "# create scatters\n",
    "for attr in [\"count_of_questions\"]:\n",
    "    create_ordered_scatter(users, attr)\n",
    "    hist = (create_histogram(users, attr, bins=9))\n",
    "    print (hist[0])\n",
    "    print (np.rint(np.exp(hist[1])))"
   ]
  },
  {
   "cell_type": "code",
   "execution_count": null,
   "metadata": {
    "collapsed": true
   },
   "outputs": [],
   "source": []
  }
 ],
 "metadata": {
  "kernelspec": {
   "display_name": "Python [conda env:dataviz]",
   "language": "python",
   "name": "conda-env-dataviz-py"
  },
  "language_info": {
   "codemirror_mode": {
    "name": "ipython",
    "version": 3
   },
   "file_extension": ".py",
   "mimetype": "text/x-python",
   "name": "python",
   "nbconvert_exporter": "python",
   "pygments_lexer": "ipython3",
   "version": "3.6.2"
  }
 },
 "nbformat": 4,
 "nbformat_minor": 2
}
