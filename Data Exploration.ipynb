{
 "cells": [
  {
   "cell_type": "markdown",
   "metadata": {},
   "source": [
    "# Data Exploration"
   ]
  },
  {
   "cell_type": "code",
   "execution_count": null,
   "metadata": {
    "collapsed": true
   },
   "outputs": [],
   "source": [
    "import os\n",
    "import xml.etree.ElementTree as et\n",
    "import json\n",
    "import ijson"
   ]
  },
  {
   "cell_type": "code",
   "execution_count": null,
   "metadata": {
    "collapsed": true
   },
   "outputs": [],
   "source": [
    "#posts_path = os.path.join(\"E:\", \"Uni\", \"DataViz\", \"DataSet\", \"Posts.xml\")\n",
    "#questions_path = os.path.join(\"E:\", \"Uni\", \"DataViz\", \"DataSet\", \"Questions.json\")\n",
    "#answers_path = os.path.join(\"E:\", \"Uni\", \"DataViz\", \"DataSet\", \"Answers.json\")\n",
    "#edge_list_path = os.path.join(\"E:\", \"Uni\", \"DataViz\", \"DataSet\", \"Edges.json\")\n",
    "#edge_list_tag_path = os.path.join(\"E:\", \"Uni\", \"DataViz\", \"DataSet\", \"Tags\")\n",
    "\n",
    "posts_path = os.path.join(\"Posts.xml\")\n",
    "questions_path = os.path.join(\"Questions.json\")\n",
    "answers_path = os.path.join(\"Answers.json\")\n",
    "edge_list_path = os.path.join(\"Edges.json\")\n",
    "edge_list_tag_path = os.path.join(\"Tags\")"
   ]
  },
  {
   "cell_type": "code",
   "execution_count": null,
   "metadata": {},
   "outputs": [],
   "source": [
    "posts_path"
   ]
  },
  {
   "cell_type": "code",
   "execution_count": null,
   "metadata": {},
   "outputs": [],
   "source": [
    "with open(questions_path, 'w') as q, open(answers_path, 'w') as a:\n",
    "    q.write(\"{ \\\"data\\\": [\\n\")\n",
    "    a.write(\"{ \\\"data\\\": [\\n\")\n",
    "    firstQ = True\n",
    "    firstA = True\n",
    "    for event, elem in et.iterparse(posts_path):\n",
    "        if elem.tag == \"row\":\n",
    "            try:\n",
    "                parsed = {}\n",
    "                parsed[\"id\"] = elem.attrib[\"Id\"]\n",
    "                parsed[\"owner_id\"] = elem.attrib[\"OwnerUserId\"]\n",
    "                parsed[\"time\"] = elem.attrib[\"CreationDate\"]\n",
    "                try:                    \n",
    "                    parsed[\"tags\"] = elem.attrib[\"Tags\"]\n",
    "                except KeyError:\n",
    "                    parsed[\"tags\"] = \"\"\n",
    "                if elem.attrib[\"PostTypeId\"] == \"1\":\n",
    "                    parsed[\"ref\"] = elem.attrib[\"AcceptedAnswerId\"]\n",
    "                    if not firstQ:\n",
    "                        q.write(\",\\n\")\n",
    "                    else:\n",
    "                        firstQ = False\n",
    "                    q.write(json.dumps(parsed))\n",
    "                else :                    \n",
    "                    parsed[\"ref\"] = elem.attrib[\"ParentId\"]\n",
    "                    if not firstA:\n",
    "                        a.write(\",\\n\")\n",
    "                    else:\n",
    "                        firstA = False\n",
    "                    a.write(json.dumps(parsed))\n",
    "            except KeyError as e:\n",
    "                pass\n",
    "                # ignore posts without answer for now\n",
    "                # ignore posts without user id\n",
    "        elem.clear()\n",
    "    q.write(\"\\n]}\")\n",
    "    a.write(\"\\n]}\")"
   ]
  },
  {
   "cell_type": "code",
   "execution_count": null,
   "metadata": {},
   "outputs": [],
   "source": [
    "with open(questions_path, 'r') as q, open(edge_list_path,'w') as e:\n",
    "    questions = ijson.items(q, \"data.item\")\n",
    "    first = True\n",
    "    e.write(\"{ \\\"data\\\":[\")\n",
    "    for question in questions:\n",
    "        with open(answers_path, 'r') as a:\n",
    "            answers = ijson.items(a, \"data.item\")\n",
    "            for answer in answers:\n",
    "                if question['ref'] == answer['id']:\n",
    "                    if not first:\n",
    "                        e.write(\",\\n\")\n",
    "                    else:\n",
    "                        first = False\n",
    "                    e.write(json.dumps({'q_id':question[\"owner_id\"], 'a_id':answer[\"owner_id\"], 'time':answer[\"time\"], 'tags':question[\"tags\"]}))\n",
    "                    break\n",
    "    e.write(\"]}\")"
   ]
  },
  {
   "cell_type": "code",
   "execution_count": null,
   "metadata": {},
   "outputs": [],
   "source": [
    "for the_file in os.listdir(edge_list_tag_path):\n",
    "    file_path = os.path.join(edge_list_tag_path, the_file)\n",
    "    try:\n",
    "        if os.path.isfile(file_path):\n",
    "            os.unlink(file_path)\n",
    "    except Exception as e:\n",
    "        print(e)\n",
    "\n",
    "\n",
    "with open(edge_list_path,'r') as e:\n",
    "    edges = ijson.items(e, \"data.item\")\n",
    "    for edge in edges:\n",
    "        print (edge)\n",
    "        # split tags\n",
    "        tags = [s.replace(\"<\", \"\").replace(\">\",\"\") for s in edge[\"tags\"].split(\"><\")]\n",
    "        print (tags)\n",
    "        for tag in tags:\n",
    "            with open(os.path.join(edge_list_tag_path, \"{}.json\".format(tag)), 'a') as e_tag:\n",
    "                e_tag.write(json.dumps(edge)+\"\\n\")\n"
   ]
  },
  {
   "cell_type": "code",
   "execution_count": null,
   "metadata": {
    "collapsed": true
   },
   "outputs": [],
   "source": []
  }
 ],
 "metadata": {
  "kernelspec": {
   "display_name": "Python [conda env:dataviz]",
   "language": "python",
   "name": "conda-env-dataviz-py"
  },
  "language_info": {
   "codemirror_mode": {
    "name": "ipython",
    "version": 3
   },
   "file_extension": ".py",
   "mimetype": "text/x-python",
   "name": "python",
   "nbconvert_exporter": "python",
   "pygments_lexer": "ipython3",
   "version": "3.6.2"
  }
 },
 "nbformat": 4,
 "nbformat_minor": 2
}
