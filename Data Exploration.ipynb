{
 "cells": [
  {
   "cell_type": "markdown",
   "metadata": {},
   "source": [
    "# Data Exploration"
   ]
  },
  {
   "cell_type": "code",
   "execution_count": 8,
   "metadata": {
    "collapsed": true
   },
   "outputs": [],
   "source": [
    "import os\n",
    "import xml.etree.ElementTree as et\n",
    "import json\n",
    "import ijson"
   ]
  },
  {
   "cell_type": "code",
   "execution_count": 9,
   "metadata": {
    "collapsed": true
   },
   "outputs": [],
   "source": [
    "#posts_path = os.path.join(\"E:\", \"Uni\", \"DataViz\", \"DataSet\", \"Posts.xml\")\n",
    "#questions_path = os.path.join(\"E:\", \"Uni\", \"DataViz\", \"DataSet\", \"Questions.json\")\n",
    "#answers_path = os.path.join(\"E:\", \"Uni\", \"DataViz\", \"DataSet\", \"Answers.json\")\n",
    "#edge_list_path = os.path.join(\"E:\", \"Uni\", \"DataViz\", \"DataSet\", \"Edges.json\")\n",
    "#edge_list_tag_path = os.path.join(\"E:\", \"Uni\", \"DataViz\", \"DataSet\", \"Tags\")\n",
    "\n",
    "posts_path = os.path.join(\"Posts.xml\")\n",
    "questions_path = os.path.join(\"Questions.json\")\n",
    "answers_path = os.path.join(\"Answers.json\")\n",
    "edge_list_path = os.path.join(\"Edges.json\")\n",
    "edge_list_tag_path = os.path.join(\"Tags\")"
   ]
  },
  {
   "cell_type": "code",
   "execution_count": 10,
   "metadata": {},
   "outputs": [
    {
     "data": {
      "text/plain": [
       "'Posts.xml'"
      ]
     },
     "execution_count": 10,
     "metadata": {},
     "output_type": "execute_result"
    }
   ],
   "source": [
    "posts_path"
   ]
  },
  {
   "cell_type": "code",
   "execution_count": 12,
   "metadata": {},
   "outputs": [
    {
     "ename": "UnicodeDecodeError",
     "evalue": "'utf-8' codec can't decode byte 0xe2 in position 976: invalid continuation byte",
     "output_type": "error",
     "traceback": [
      "\u001b[1;31m---------------------------------------------------------------------------\u001b[0m",
      "\u001b[1;31mUnicodeDecodeError\u001b[0m                        Traceback (most recent call last)",
      "\u001b[1;32m<ipython-input-12-09a4992c16a8>\u001b[0m in \u001b[0;36m<module>\u001b[1;34m()\u001b[0m\n\u001b[0;32m      4\u001b[0m     \u001b[0mfirstQ\u001b[0m \u001b[1;33m=\u001b[0m \u001b[1;32mTrue\u001b[0m\u001b[1;33m\u001b[0m\u001b[0m\n\u001b[0;32m      5\u001b[0m     \u001b[0mfirstA\u001b[0m \u001b[1;33m=\u001b[0m \u001b[1;32mTrue\u001b[0m\u001b[1;33m\u001b[0m\u001b[0m\n\u001b[1;32m----> 6\u001b[1;33m     \u001b[1;32mfor\u001b[0m \u001b[0mevent\u001b[0m\u001b[1;33m,\u001b[0m \u001b[0melem\u001b[0m \u001b[1;32min\u001b[0m \u001b[0met\u001b[0m\u001b[1;33m.\u001b[0m\u001b[0miterparse\u001b[0m\u001b[1;33m(\u001b[0m\u001b[0mposts_path\u001b[0m\u001b[1;33m)\u001b[0m\u001b[1;33m:\u001b[0m\u001b[1;33m\u001b[0m\u001b[0m\n\u001b[0m\u001b[0;32m      7\u001b[0m         \u001b[1;32mif\u001b[0m \u001b[0melem\u001b[0m\u001b[1;33m.\u001b[0m\u001b[0mtag\u001b[0m \u001b[1;33m==\u001b[0m \u001b[1;34m\"row\"\u001b[0m\u001b[1;33m:\u001b[0m\u001b[1;33m\u001b[0m\u001b[0m\n\u001b[0;32m      8\u001b[0m             \u001b[1;32mtry\u001b[0m\u001b[1;33m:\u001b[0m\u001b[1;33m\u001b[0m\u001b[0m\n",
      "\u001b[1;32m~\\AppData\\Local\\conda\\conda\\envs\\dataviz\\lib\\xml\\etree\\ElementTree.py\u001b[0m in \u001b[0;36miterator\u001b[1;34m()\u001b[0m\n\u001b[0;32m   1224\u001b[0m                 \u001b[1;32mif\u001b[0m \u001b[1;32mnot\u001b[0m \u001b[0mdata\u001b[0m\u001b[1;33m:\u001b[0m\u001b[1;33m\u001b[0m\u001b[0m\n\u001b[0;32m   1225\u001b[0m                     \u001b[1;32mbreak\u001b[0m\u001b[1;33m\u001b[0m\u001b[0m\n\u001b[1;32m-> 1226\u001b[1;33m                 \u001b[0mpullparser\u001b[0m\u001b[1;33m.\u001b[0m\u001b[0mfeed\u001b[0m\u001b[1;33m(\u001b[0m\u001b[0mdata\u001b[0m\u001b[1;33m)\u001b[0m\u001b[1;33m\u001b[0m\u001b[0m\n\u001b[0m\u001b[0;32m   1227\u001b[0m             \u001b[0mroot\u001b[0m \u001b[1;33m=\u001b[0m \u001b[0mpullparser\u001b[0m\u001b[1;33m.\u001b[0m\u001b[0m_close_and_return_root\u001b[0m\u001b[1;33m(\u001b[0m\u001b[1;33m)\u001b[0m\u001b[1;33m\u001b[0m\u001b[0m\n\u001b[0;32m   1228\u001b[0m             \u001b[1;32myield\u001b[0m \u001b[1;32mfrom\u001b[0m \u001b[0mpullparser\u001b[0m\u001b[1;33m.\u001b[0m\u001b[0mread_events\u001b[0m\u001b[1;33m(\u001b[0m\u001b[1;33m)\u001b[0m\u001b[1;33m\u001b[0m\u001b[0m\n",
      "\u001b[1;32m~\\AppData\\Local\\conda\\conda\\envs\\dataviz\\lib\\xml\\etree\\ElementTree.py\u001b[0m in \u001b[0;36mfeed\u001b[1;34m(self, data)\u001b[0m\n\u001b[0;32m   1266\u001b[0m         \u001b[1;32mif\u001b[0m \u001b[0mdata\u001b[0m\u001b[1;33m:\u001b[0m\u001b[1;33m\u001b[0m\u001b[0m\n\u001b[0;32m   1267\u001b[0m             \u001b[1;32mtry\u001b[0m\u001b[1;33m:\u001b[0m\u001b[1;33m\u001b[0m\u001b[0m\n\u001b[1;32m-> 1268\u001b[1;33m                 \u001b[0mself\u001b[0m\u001b[1;33m.\u001b[0m\u001b[0m_parser\u001b[0m\u001b[1;33m.\u001b[0m\u001b[0mfeed\u001b[0m\u001b[1;33m(\u001b[0m\u001b[0mdata\u001b[0m\u001b[1;33m)\u001b[0m\u001b[1;33m\u001b[0m\u001b[0m\n\u001b[0m\u001b[0;32m   1269\u001b[0m             \u001b[1;32mexcept\u001b[0m \u001b[0mSyntaxError\u001b[0m \u001b[1;32mas\u001b[0m \u001b[0mexc\u001b[0m\u001b[1;33m:\u001b[0m\u001b[1;33m\u001b[0m\u001b[0m\n\u001b[0;32m   1270\u001b[0m                 \u001b[0mself\u001b[0m\u001b[1;33m.\u001b[0m\u001b[0m_events_queue\u001b[0m\u001b[1;33m.\u001b[0m\u001b[0mappend\u001b[0m\u001b[1;33m(\u001b[0m\u001b[0mexc\u001b[0m\u001b[1;33m)\u001b[0m\u001b[1;33m\u001b[0m\u001b[0m\n",
      "\u001b[1;31mUnicodeDecodeError\u001b[0m: 'utf-8' codec can't decode byte 0xe2 in position 976: invalid continuation byte"
     ]
    }
   ],
   "source": [
    "with open(questions_path, 'w') as q, open(answers_path, 'w') as a:\n",
    "    q.write(\"{\")\n",
    "    a.write(\"{\")\n",
    "    firstQ = True\n",
    "    firstA = True\n",
    "    for event, elem in et.iterparse(posts_path):\n",
    "        if elem.tag == \"row\":\n",
    "            try:\n",
    "                parsed = {}\n",
    "                parsed[\"id\"] = elem.attrib[\"Id\"]\n",
    "                parsed[\"owner_id\"] = elem.attrib[\"OwnerUserId\"]\n",
    "                parsed[\"time\"] = elem.attrib[\"CreationDate\"]\n",
    "                try:                    \n",
    "                    parsed[\"tags\"] = elem.attrib[\"Tags\"]\n",
    "                except KeyError:\n",
    "                    parsed[\"tags\"] = \"\"\n",
    "                if elem.attrib[\"PostTypeId\"] == \"1\":\n",
    "                    parsed[\"ref\"] = elem.attrib[\"AcceptedAnswerId\"]\n",
    "                    if not firstQ:\n",
    "                        q.write(\",\\n\")\n",
    "                    else:\n",
    "                        firstQ = False\n",
    "                    q.write( \"\\\"\" + parsed[\"id\"] + \"\\\":\" + json.dumps(parsed))\n",
    "                else :                    \n",
    "                    parsed[\"ref\"] = elem.attrib[\"ParentId\"]\n",
    "                    if not firstA:\n",
    "                        a.write(\",\\n\")\n",
    "                    else:\n",
    "                        firstA = False\n",
    "                    a.write( \"\\\"\" + parsed[\"ref\"] + \"\\\":\" + json.dumps(parsed))\n",
    "            except KeyError as e:\n",
    "                pass\n",
    "                # ignore posts without answer for now\n",
    "                # ignore posts without user id\n",
    "        elem.clear()\n",
    "    q.write(\"}\")\n",
    "    a.write(\"}\")"
   ]
  },
  {
   "cell_type": "code",
   "execution_count": 19,
   "metadata": {},
   "outputs": [],
   "source": [
    "with open(questions_path, 'r') as q, open(answers_path, 'r') as a, open(edge_list_path,'w') as e:\n",
    "    questions = json.load(q)\n",
    "    answers = json.load(a)\n",
    "    e.write(\"{ \\\"edges\\\":[\")\n",
    "    first = True\n",
    "    for question in questions:\n",
    "        if question in answers:\n",
    "            answer = answers[question]\n",
    "            if not first:\n",
    "                e.write(\",\\n\")\n",
    "            else:\n",
    "                first = False\n",
    "            e.write(json.dumps({'q_id':questions[question][\"owner_id\"], 'a_id':answer[\"owner_id\"], 'time':answer[\"time\"], 'tags':questions[question][\"tags\"]}))\n",
    "    e.write(\"]}\")"
   ]
  },
  {
   "cell_type": "code",
   "execution_count": 23,
   "metadata": {},
   "outputs": [],
   "source": [
    "for the_file in os.listdir(edge_list_tag_path):\n",
    "    file_path = os.path.join(edge_list_tag_path, the_file)\n",
    "    try:\n",
    "        if os.path.isfile(file_path):\n",
    "            os.unlink(file_path)\n",
    "    except Exception as e:\n",
    "        print(e)\n",
    "\n",
    "\n",
    "with open(edge_list_path,'r') as e:\n",
    "    edges = ijson.items(e, \"edges.item\")\n",
    "    for edge in edges:\n",
    "        # split tags\n",
    "        tags = [s.replace(\"<\", \"\").replace(\">\",\"\") for s in edge[\"tags\"].split(\"><\")]\n",
    "        for tag in tags:\n",
    "            with open(os.path.join(edge_list_tag_path, \"{}.json\".format(tag)), 'a') as e_tag:\n",
    "                e_tag.write(json.dumps(edge)+\"\\n\")\n"
   ]
  },
  {
   "cell_type": "code",
   "execution_count": null,
   "metadata": {
    "collapsed": true
   },
   "outputs": [],
   "source": []
  }
 ],
 "metadata": {
  "kernelspec": {
   "display_name": "Python [conda env:dataviz]",
   "language": "python",
   "name": "conda-env-dataviz-py"
  },
  "language_info": {
   "codemirror_mode": {
    "name": "ipython",
    "version": 3
   },
   "file_extension": ".py",
   "mimetype": "text/x-python",
   "name": "python",
   "nbconvert_exporter": "python",
   "pygments_lexer": "ipython3",
   "version": "3.6.2"
  }
 },
 "nbformat": 4,
 "nbformat_minor": 2
}
