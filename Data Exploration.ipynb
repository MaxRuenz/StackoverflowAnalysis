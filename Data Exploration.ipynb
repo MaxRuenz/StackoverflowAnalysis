{
 "cells": [
  {
   "cell_type": "markdown",
   "metadata": {},
   "source": [
    "# Data Exploration"
   ]
  },
  {
   "cell_type": "code",
   "execution_count": 1,
   "metadata": {
    "collapsed": true
   },
   "outputs": [],
   "source": [
    "import os\n",
    "import xml.etree.ElementTree as et\n",
    "import json"
   ]
  },
  {
   "cell_type": "code",
   "execution_count": 2,
   "metadata": {
    "collapsed": true
   },
   "outputs": [],
   "source": [
    "posts_path = os.path.join(\"E:\", \"Uni\", \"DataViz\", \"DataSet\", \"Posts.xml\")\n",
    "questions_path = os.path.join(\"E:\", \"Uni\", \"DataViz\", \"DataSet\", \"Questions.json\")\n",
    "answers_path = os.path.join(\"E:\", \"Uni\", \"DataViz\", \"DataSet\", \"Answers.json\")"
   ]
  },
  {
   "cell_type": "code",
   "execution_count": 3,
   "metadata": {},
   "outputs": [
    {
     "data": {
      "text/plain": [
       "'E:Uni\\\\DataViz\\\\DataSet\\\\Posts.xml'"
      ]
     },
     "execution_count": 3,
     "metadata": {},
     "output_type": "execute_result"
    }
   ],
   "source": [
    "posts_path"
   ]
  },
  {
   "cell_type": "code",
   "execution_count": 5,
   "metadata": {},
   "outputs": [],
   "source": [
    "with open(questions_path, 'w') as q, open(answers_path, 'w') as a:\n",
    "    for event, elem in et.iterparse(posts_path):\n",
    "        if elem.tag == \"row\":\n",
    "            try:\n",
    "                parsed = {}\n",
    "                parsed[\"id\"] = elem.attrib[\"Id\"]\n",
    "                parsed[\"owner_id\"] = elem.attrib[\"OwnerUserId\"]\n",
    "                try:                    \n",
    "                    parsed[\"tags\"] = elem.attrib[\"Tags\"]\n",
    "                except KeyError:\n",
    "                    parsed[\"tags\"] = \"\"\n",
    "                if elem.attrib[\"PostTypeId\"] == \"1\":\n",
    "                    parsed[\"ref\"] = elem.attrib[\"AcceptedAnswerId\"]\n",
    "                    q.write(json.dumps(parsed)+ \"\\n\")\n",
    "                else :\n",
    "                    parsed[\"ref\"] = elem.attrib[\"ParentId\"]\n",
    "                    a.write(json.dumps(parsed)+ \"\\n\")\n",
    "            except KeyError as e:\n",
    "                pass\n",
    "                # ignore posts without answer for now\n",
    "                # ignore posts without user id\n",
    "            elem.clear()"
   ]
  },
  {
   "cell_type": "code",
   "execution_count": null,
   "metadata": {
    "collapsed": true
   },
   "outputs": [],
   "source": []
  }
 ],
 "metadata": {
  "kernelspec": {
   "display_name": "Python 3",
   "language": "python",
   "name": "python3"
  },
  "language_info": {
   "codemirror_mode": {
    "name": "ipython",
    "version": 3
   },
   "file_extension": ".py",
   "mimetype": "text/x-python",
   "name": "python",
   "nbconvert_exporter": "python",
   "pygments_lexer": "ipython3",
   "version": "3.6.1"
  }
 },
 "nbformat": 4,
 "nbformat_minor": 2
}
