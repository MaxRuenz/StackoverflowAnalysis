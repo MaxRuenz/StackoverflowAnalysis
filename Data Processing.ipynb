{
 "cells": [
  {
   "cell_type": "markdown",
   "metadata": {},
   "source": [
    "# Data Processing "
   ]
  },
  {
   "cell_type": "markdown",
   "metadata": {},
   "source": [
    "## Network analysis"
   ]
  },
  {
   "cell_type": "code",
   "execution_count": 18,
   "metadata": {
    "collapsed": true
   },
   "outputs": [],
   "source": [
    "import os\n",
    "import random\n",
    "import matplotlib.pyplot as plt\n",
    "import networkx as nx\n",
    "import numpy as np\n",
    "import warnings\n",
    "import ijson\n",
    "import datetime\n",
    "%matplotlib inline"
   ]
  },
  {
   "cell_type": "code",
   "execution_count": 2,
   "metadata": {
    "collapsed": true
   },
   "outputs": [],
   "source": [
    "edge_list_tag_path = os.path.join(\"Tags\")"
   ]
  },
  {
   "cell_type": "code",
   "execution_count": 4,
   "metadata": {},
   "outputs": [],
   "source": [
    "#for the_file in os.listdir(edge_list_tag_path):\n",
    "#    if not \"_list\" in the_file:\n",
    "#        continue\n",
    "#    if not the_file == \"javascript_ordered_list.json\":\n",
    "#        continue\n",
    "#    list_path = os.path.join(edge_list_tag_path, the_file)\n",
    "#    with open(list_path,'r') as e:\n",
    "js_network = nx.read_edgelist(os.path.join(\"Tags\", \"javascript_ordered_list.txt\"),nodetype=int, data=(('time',str),('votes', int))) "
   ]
  },
  {
   "cell_type": "code",
   "execution_count": 5,
   "metadata": {},
   "outputs": [
    {
     "data": {
      "text/plain": [
       "36140"
      ]
     },
     "execution_count": 5,
     "metadata": {},
     "output_type": "execute_result"
    }
   ],
   "source": [
    "nx.number_connected_components(js_network)"
   ]
  },
  {
   "cell_type": "code",
   "execution_count": 5,
   "metadata": {},
   "outputs": [
    {
     "data": {
      "text/plain": [
       "52750"
      ]
     },
     "execution_count": 5,
     "metadata": {},
     "output_type": "execute_result"
    }
   ],
   "source": [
    "js_network.number_of_selfloops ()"
   ]
  },
  {
   "cell_type": "code",
   "execution_count": 7,
   "metadata": {
    "scrolled": true
   },
   "outputs": [
    {
     "data": {
      "text/plain": [
       "3.6703457896212779"
      ]
     },
     "execution_count": 7,
     "metadata": {},
     "output_type": "execute_result"
    }
   ],
   "source": [
    "np.asarray(list(js_network.degree(js_network.nodes()).values())).mean()"
   ]
  },
  {
   "cell_type": "code",
   "execution_count": 42,
   "metadata": {
    "scrolled": true
   },
   "outputs": [
    {
     "data": {
      "text/plain": [
       "(array([  4.17112000e+05,   7.70000000e+01,   1.20000000e+01,\n",
       "          8.00000000e+00,   5.00000000e+00,   1.00000000e+00,\n",
       "          1.00000000e+00,   1.00000000e+00,   0.00000000e+00,\n",
       "          2.00000000e+00]),\n",
       " array([  1.00000000e+00,   3.60000000e+02,   7.19000000e+02,\n",
       "          1.07800000e+03,   1.43700000e+03,   1.79600000e+03,\n",
       "          2.15500000e+03,   2.51400000e+03,   2.87300000e+03,\n",
       "          3.23200000e+03,   3.59100000e+03]),\n",
       " <a list of 10 Patch objects>)"
      ]
     },
     "execution_count": 42,
     "metadata": {},
     "output_type": "execute_result"
    },
    {
     "data": {
      "image/png": "[encoded data removed]",
      "text/plain": [
       "<matplotlib.figure.Figure at 0x1e1b0d49a58>"
      ]
     },
     "metadata": {},
     "output_type": "display_data"
    }
   ],
   "source": [
    "degrees_dict = js_network.degree()\n",
    "degrees = np.asarray([ [key,degrees_dict[key]] for key in degrees_dict])\n",
    "plt.hist(degrees[:,1])"
   ]
  },
  {
   "cell_type": "code",
   "execution_count": 66,
   "metadata": {
    "collapsed": true
   },
   "outputs": [],
   "source": [
    "degrees_unique = np.unique(degrees[:,1])\n",
    "degrees_num, tmp = np.histogram(degrees, bins=degrees_unique.shape[0])"
   ]
  },
  {
   "cell_type": "code",
   "execution_count": 67,
   "metadata": {},
   "outputs": [
    {
     "data": {
      "text/plain": [
       "<matplotlib.collections.PathCollection at 0x1e19b61fb00>"
      ]
     },
     "execution_count": 67,
     "metadata": {},
     "output_type": "execute_result"
    },
    {
     "data": {
      "image/png": "[encoded data removed]",
      "text/plain": [
       "<matplotlib.figure.Figure at 0x1e1a24d9b38>"
      ]
     },
     "metadata": {},
     "output_type": "display_data"
    }
   ],
   "source": [
    "plt.scatter(degrees_unique, degrees_num)"
   ]
  },
  {
   "cell_type": "code",
   "execution_count": 105,
   "metadata": {},
   "outputs": [
    {
     "name": "stdout",
     "output_type": "stream",
     "text": [
      "[   1    2    3    4    5    6    7    8    9   10   11   12   13   14   15\n",
      "   16   17   18   19   20   21   22   23   24   25   26   27   28   29   30\n",
      "   31   32   33   34   35   36   37   38   39   40   41   42   43   44   45\n",
      "   46   47   48   49   50   51   52   53   54   55   56   57   58   59   60\n",
      "   61   62   63   64   65   66   67   68   69   70   71   72   73   74   75\n",
      "   76   77   78   79   80   81   82   83   84   85   86   87   88   89   90\n",
      "   91   92   93   94   95   96   97   98   99  100  101  102  103  104  105\n",
      "  106  107  108  109  110  111  112  113  114  115  116  117  118  119  120\n",
      "  121  122  123  124  125  126  127  128  129  130  131  132  133  134  135\n",
      "  136  137  138  139  140  141  142  143  144  145  146  148  149  150  151\n",
      "  152  153  154  155  156  157  158  159  160  161  162  163  165  166  167\n",
      "  168  169  170  171  173  174  175  176  179  180  181  182  183  184  185\n",
      "  186  187  188  189  190  191  192  193  194  196  197  198  200  201  202\n",
      "  203  204  205  206  207  208  209  210  211  212  213  214  215  216  217\n",
      "  218  219  222  223  225  228  229  230  231  232  233  234  235  236  237\n",
      "  238  239  241  243  246  248  250  251  252  254  255  257  259  261  262\n",
      "  264  266  268  269  270  272  274  276  277  278  279  280  283  285  286\n",
      "  288  289  291  292  294  298  299  300  301  302  305  306  310  311  312\n",
      "  313  314  315  316  317  321  326  328  335  338  341  342  344  345  349\n",
      "  351  352  355  356  359  360  361  365  367  376  379  383  385  386  389\n",
      "  397  398  402  403  404  408  412  413  415  416  417  419  430  439  443\n",
      "  445  447  448  453  457  460  463  470  472  476  479  487  489  490  491\n",
      "  492  493  498  504  507  520  531  547  556  562  582  584  587  590  595\n",
      "  607  614  616  619  636  643  656  659  660  679  713  727  736  790  794\n",
      "  811  874  879  909  914  932  934  974 1128 1144 1189 1294 1323 1379 1389\n",
      " 1406 1548 1561 1568 1609 1626 2115 2349 2709 3335 3591]\n",
      "[420805   2190   2056   2042   2015   2188   2044   2046   2287   2265\n",
      "   2205   2188   2081   2021   2005   2035   2100   2165   2130   2111\n",
      "   2183   2035   2064   1937   1810   1949   1962   1989   1909   1872\n",
      "   1834   1819   1863   1781   1860   2022   2062   1992   2073   1967\n",
      "   2036   1780   1782   1947   2226   2242   2143   2106   2139   2018\n",
      "   1944   2031   2062   2079   2048   2110   1959   1965   1960   2000\n",
      "   1976   1961   1989   1971   1937   1887   1918   1766   1790   1800\n",
      "   1702   1711   1643   1672   1763   1626   1668   1715   1657   1709\n",
      "   1657   1601   1709   1733   1647   1590   1522   1649   1433   1399\n",
      "   1550   1524   1553   1570   1464   1458   1444   1404   1366   1375\n",
      "   1338   1376   1291   1367   1418   1361   1301   1301   1333   1420\n",
      "   1332   1362   1408   1297   1429   1404   1399   1414   1398   1384\n",
      "   1373   1344   1389   1319   1393   1312   1274   1233   1281   1202\n",
      "   1318   1287   1237   1233   1117   1221   1141   1070   1243   1202\n",
      "   1235   1267   1294   1256   1267   1238   1233   1202   1195   1207\n",
      "   1189   1113   1093   1125   1088   1164   1183   1170   1145   1117\n",
      "   1119   1032   1130   1119   1089   1084   1124   1064   1161   1096\n",
      "   1174   1155   1101   1109   1125   1091   1086   1044   1095   1105\n",
      "   1042    981    995   1020    986    971   1010    942   1029   1016\n",
      "    944    983   1005   1038   1002    934    962    950    987   1054\n",
      "    921    931    958    946    906   1039    966   1019    953    956\n",
      "    905    890    938    895    897    878    902    928    904    905\n",
      "    886    894    910    934    906    922    922    859    910    945\n",
      "    894    919    918    885    853    789    846    832    818    820\n",
      "    801    739    784    784    809    785    774    805    778    750\n",
      "    833    750    782    743    805    712    694    731    802    839\n",
      "    779    738    671    697    705    706    693    735    619    656\n",
      "    576    626    642    655    613    627    604    631    617    613\n",
      "    601    594    590    601    596    594    627    627    637    606\n",
      "    610    584    615    561    597    579    597    616    590    578\n",
      "    560    553    568    563    577    564    532    517    522    544\n",
      "    480    423    456    444    408      0     24    385    443    454\n",
      "    446    439    448    442    422    457    398    413    444    397\n",
      "    348    480    455    475    469    442    467    403    410    441\n",
      "    378    406    391    381    399    427    377    392    353    368\n",
      "    364    401    366    382    343    353    331    329    358    309\n",
      "    366    359    349    315    276    321    334    312    290    291\n",
      "    279    325    288    269    247    251    271    236    227    220\n",
      "    220    230    249    182    167    136]\n"
     ]
    },
    {
     "data": {
      "image/png": "[encoded data removed]",
      "text/plain": [
       "<matplotlib.figure.Figure at 0x1e1ad45c048>"
      ]
     },
     "metadata": {},
     "output_type": "display_data"
    }
   ],
   "source": [
    "fig = plt.figure()\n",
    "ax = plt.gca()\n",
    "ax.scatter(degrees_unique, degrees_num)\n",
    "ax.set_yscale('symlog')\n",
    "ax.set_xscale('symlog')\n",
    "print (degrees_unique)\n",
    "print (degrees_num)"
   ]
  },
  {
   "cell_type": "code",
   "execution_count": 87,
   "metadata": {},
   "outputs": [
    {
     "data": {
      "image/png": "[encoded data removed]",
      "text/plain": [
       "<matplotlib.figure.Figure at 0x1e1a4e5ab38>"
      ]
     },
     "metadata": {},
     "output_type": "display_data"
    }
   ],
   "source": [
    "fig = plt.figure()\n",
    "ax = plt.gca()\n",
    "ax.scatter(degrees_unique[1:], degrees_num[1:])\n",
    "ax.set_yscale('symlog')\n",
    "ax.set_xscale('symlog')"
   ]
  },
  {
   "cell_type": "code",
   "execution_count": 106,
   "metadata": {},
   "outputs": [
    {
     "name": "stdout",
     "output_type": "stream",
     "text": [
      "[   1    2    3    4    5    6    7    8    9   10   11   12   13   14   15\n",
      "   16   17   18   19   20   21   22   23   24   25   26   27   28   29   30\n",
      "   31   32   33   34   35   36   37   38   39   40   41   42   43   44   45\n",
      "   46   47   48   49   50   51   52   53   54   55   56   57   58   59   60\n",
      "   61   62   63   64   65   66   67   68   69   70   71   72   73   74   75\n",
      "   76   77   78   79   80   81   82   83   84   85   86   87   88   89   90\n",
      "   91   92   93   94   95   96   97   98   99  100  101  102  103  104  105\n",
      "  106  107  108  109  110  111  112  113  114  115  116  117  118  119  120\n",
      "  121  122  123  124  125  126  127  128  129  130  131  132  133  134  135\n",
      "  136  137  138  139  140  141  142  143  144  145  146  148  149  150  151\n",
      "  152  153  154  155  156  157  158  159  160  161  162  163  165  166  167\n",
      "  168  169  170  171  173  174  175  176  179  180  181  182  183  184  185\n",
      "  186  187  188  189  190  191  192  193  194  196  197  198  200  201  202\n",
      "  203  204  205  206  207  208  209  210  211  212  213  214  215  216  217\n",
      "  218  219  222  223  225  228  229  230  231  232  233  234  235  236  237\n",
      "  238  239  241  243  246  248  250  251  252  254  255  257  259  261  262\n",
      "  264  266  268  269  270  272  274  276  277  278  279  280  283  285  286\n",
      "  288  289  291  292  294  298  299  300  301  302  305  306  310  311  312\n",
      "  313  314  315  316  317  321  326  328  335  338  341  342  344  345  349\n",
      "  351  352  355  356  359  360  361  365  367  376  379  383  385  386  389\n",
      "  397  398  402  403  404  408  412  413  415  416  417  419  430  439  443\n",
      "  445  447  448  453  457  460  463  470  472  476  479  487  489  490  491\n",
      "  492  493  498  504  507  520  531  547  556  562  582  584  587  590  595\n",
      "  607  614  616  619  636  643  656  659  660  679  713  727  736  790  794\n",
      "  811  874  879  909  914  932  934  974 1128 1144 1189 1294 1323 1379 1389\n",
      " 1406 1548 1561 1568 1609 1626 2115 2349 2709 3335 3591]\n",
      "[  5.20431079e-03   4.88587350e-03   4.85260394e-03   4.78844120e-03\n",
      "   5.19955799e-03   4.85735673e-03   4.86210953e-03   5.43482135e-03\n",
      "   5.38254061e-03   5.23995675e-03   5.19955799e-03   4.94528344e-03\n",
      "   4.80269959e-03   4.76467723e-03   4.83596915e-03   4.99043500e-03\n",
      "   5.14490084e-03   5.06172693e-03   5.01657537e-03   5.18767600e-03\n",
      "   4.83596915e-03   4.90488469e-03   4.60308219e-03   4.30127969e-03\n",
      "   4.63159896e-03   4.66249213e-03   4.72665486e-03   4.53654305e-03\n",
      "   4.44861634e-03   4.35831323e-03   4.32266727e-03   4.42722876e-03\n",
      "   4.23236416e-03   4.42009957e-03   4.80507599e-03   4.90013189e-03\n",
      "   4.73378406e-03   4.92627226e-03   4.67437412e-03   4.83834555e-03\n",
      "   4.22998776e-03   4.23474056e-03   4.62684616e-03   5.28986110e-03\n",
      "   5.32788346e-03   5.09262010e-03   5.00469339e-03   5.08311451e-03\n",
      "   4.79557039e-03   4.61971697e-03   4.82646356e-03   4.90013189e-03\n",
      "   4.94053065e-03   4.86686232e-03   5.01419898e-03   4.65536294e-03\n",
      "   4.66962132e-03   4.65773933e-03   4.75279524e-03   4.69576169e-03\n",
      "   4.66011573e-03   4.72665486e-03   4.68387971e-03   4.60308219e-03\n",
      "   4.48426231e-03   4.55793063e-03   4.19671819e-03   4.25375174e-03\n",
      "   4.27751571e-03   4.04462875e-03   4.06601633e-03   3.90442129e-03\n",
      "   3.97333682e-03   4.18958900e-03   3.86402253e-03   3.96383123e-03\n",
      "   4.07552192e-03   3.93769085e-03   4.06126353e-03   3.93769085e-03\n",
      "   3.80461259e-03   4.06126353e-03   4.11829707e-03   3.91392688e-03\n",
      "   3.77847221e-03   3.61687718e-03   3.91867967e-03   3.40537779e-03\n",
      "   3.32458027e-03   3.68341631e-03   3.62162997e-03   3.69054550e-03\n",
      "   3.73094426e-03   3.47904611e-03   3.46478773e-03   3.43151816e-03\n",
      "   3.33646226e-03   3.24615915e-03   3.26754673e-03   3.17962001e-03\n",
      "   3.26992312e-03   3.06792933e-03   3.24853554e-03   3.36973182e-03\n",
      "   3.23427716e-03   3.09169330e-03   3.09169330e-03   3.16773803e-03\n",
      "   3.37448462e-03   3.16536163e-03   3.23665356e-03   3.34596785e-03\n",
      "   3.08218771e-03   3.39587220e-03   3.33646226e-03   3.32458027e-03\n",
      "   3.36022623e-03   3.32220387e-03   3.28893430e-03   3.26279393e-03\n",
      "   3.19387840e-03   3.30081629e-03   3.13446846e-03   3.31032188e-03\n",
      "   3.11783368e-03   3.02753057e-03   2.93009826e-03   3.04416535e-03\n",
      "   2.85642994e-03   3.13209206e-03   3.05842374e-03   2.93960385e-03\n",
      "   2.93009826e-03   2.65443614e-03   2.90158149e-03   2.71146968e-03\n",
      "   2.54274545e-03   2.95386224e-03   2.85642994e-03   2.93485106e-03\n",
      "   3.01089578e-03   3.07505852e-03   2.98475541e-03   3.01089578e-03\n",
      "   2.94198025e-03   2.93009826e-03   2.85642994e-03   2.83979515e-03\n",
      "   2.86831193e-03   2.82553677e-03   2.64493055e-03   2.59740260e-03\n",
      "   2.67344732e-03   2.58552061e-03   2.76612683e-03   2.81127838e-03\n",
      "   2.78038521e-03   2.72097527e-03   2.65443614e-03   2.65918894e-03\n",
      "   2.45244234e-03   2.68532931e-03   2.65918894e-03   2.58789701e-03\n",
      "   2.57601502e-03   2.67107092e-03   2.52848707e-03   2.75899764e-03\n",
      "   2.60453179e-03   2.78989080e-03   2.74473925e-03   2.61641378e-03\n",
      "   2.63542496e-03   2.67344732e-03   2.59264980e-03   2.58076781e-03\n",
      "   2.48095911e-03   2.60215539e-03   2.62591937e-03   2.47620632e-03\n",
      "   2.33124606e-03   2.36451563e-03   2.42392557e-03   2.34312805e-03\n",
      "   2.30748209e-03   2.40016160e-03   2.23856656e-03   2.44531315e-03\n",
      "   2.41441998e-03   2.24331935e-03   2.33599886e-03   2.38827961e-03\n",
      "   2.46670073e-03   2.38115041e-03   2.21955538e-03   2.28609451e-03\n",
      "   2.25757774e-03   2.34550445e-03   2.50472309e-03   2.18866221e-03\n",
      "   2.21242618e-03   2.27658892e-03   2.24807215e-03   2.15301624e-03\n",
      "   2.46907713e-03   2.29560010e-03   2.42154917e-03   2.26470693e-03\n",
      "   2.27183612e-03   2.15063985e-03   2.11499388e-03   2.22906097e-03\n",
      "   2.12687587e-03   2.13162866e-03   2.08647711e-03   2.14351065e-03\n",
      "   2.20529699e-03   2.14826345e-03   2.15063985e-03   2.10548829e-03\n",
      "   2.12449947e-03   2.16252183e-03   2.21955538e-03   2.15301624e-03\n",
      "   2.19103860e-03   2.19103860e-03   2.04132555e-03   2.16252183e-03\n",
      "   2.24569575e-03   2.12449947e-03   2.18390941e-03   2.18153301e-03\n",
      "   2.10311189e-03   2.02706717e-03   1.87497772e-03   2.01043239e-03\n",
      "   1.97716282e-03   1.94389325e-03   1.94864605e-03   1.90349449e-03\n",
      "   1.75615784e-03   1.86309573e-03   1.86309573e-03   1.92250567e-03\n",
      "   1.86547213e-03   1.83933176e-03   1.91300008e-03   1.84883735e-03\n",
      "   1.78229821e-03   1.97953922e-03   1.78229821e-03   1.85834294e-03\n",
      "   1.76566343e-03   1.91300008e-03   1.69199510e-03   1.64921995e-03\n",
      "   1.73714666e-03   1.90587089e-03   1.99379760e-03   1.85121375e-03\n",
      "   1.75378144e-03   1.59456280e-03   1.65634914e-03   1.67536032e-03\n",
      "   1.67773672e-03   1.64684355e-03   1.74665225e-03   1.47099013e-03\n",
      "   1.55891684e-03   1.36880503e-03   1.48762491e-03   1.52564727e-03\n",
      "   1.55654044e-03   1.45673174e-03   1.49000131e-03   1.43534416e-03\n",
      "   1.49950690e-03   1.46623733e-03   1.45673174e-03   1.42821497e-03\n",
      "   1.41158019e-03   1.40207460e-03   1.42821497e-03   1.41633298e-03\n",
      "   1.41158019e-03   1.49000131e-03   1.49000131e-03   1.51376528e-03\n",
      "   1.44009696e-03   1.44960255e-03   1.38781621e-03   1.46148454e-03\n",
      "   1.33315906e-03   1.41870938e-03   1.37593422e-03   1.41870938e-03\n",
      "   1.46386093e-03   1.40207460e-03   1.37355782e-03   1.33078267e-03\n",
      "   1.31414788e-03   1.34979385e-03   1.33791186e-03   1.37118143e-03\n",
      "   1.34028826e-03   1.26424353e-03   1.22859757e-03   1.24047956e-03\n",
      "   1.29276030e-03   1.14067086e-03   1.00521619e-03   1.08363731e-03\n",
      "   1.05512054e-03   9.69570228e-04   0.00000000e+00   5.70335429e-05\n",
      "   9.14913083e-04   1.05274415e-03   1.07888452e-03   1.05987334e-03\n",
      "   1.04323855e-03   1.06462613e-03   1.05036775e-03   1.00283980e-03\n",
      "   1.08601371e-03   9.45806252e-04   9.81452217e-04   1.05512054e-03\n",
      "   9.43429855e-04   8.26986371e-04   1.14067086e-03   1.08126092e-03\n",
      "   1.12878887e-03   1.11453048e-03   1.05036775e-03   1.10977769e-03\n",
      "   9.57688240e-04   9.74323024e-04   1.04799135e-03   8.98278300e-04\n",
      "   9.64817433e-04   9.29171469e-04   9.05407493e-04   9.48182650e-04\n",
      "   1.01472178e-03   8.95901902e-04   9.31547867e-04   8.38868359e-04\n",
      "   8.74514324e-04   8.65008733e-04   9.52935445e-04   8.69761528e-04\n",
      "   9.07783890e-04   8.15104383e-04   8.38868359e-04   7.86587612e-04\n",
      "   7.81834817e-04   8.50750348e-04   7.34306864e-04   8.69761528e-04\n",
      "   8.53126745e-04   8.29362769e-04   7.48565250e-04   6.55885743e-04\n",
      "   7.62823636e-04   7.93716805e-04   7.41436057e-04   6.89155309e-04\n",
      "   6.91531707e-04   6.63014936e-04   7.72329226e-04   6.84402514e-04\n",
      "   6.39250959e-04   5.86970212e-04   5.96475802e-04   6.44003755e-04\n",
      "   5.60829838e-04   5.39442259e-04   5.22807476e-04   5.22807476e-04\n",
      "   5.46571452e-04   5.91723007e-04   4.32504367e-04   3.96858402e-04\n",
      "   3.23190076e-04]\n"
     ]
    },
    {
     "data": {
      "image/png": "[encoded data removed]",
      "text/plain": [
       "<matplotlib.figure.Figure at 0x1e1a662d240>"
      ]
     },
     "metadata": {},
     "output_type": "display_data"
    }
   ],
   "source": [
    "fig = plt.figure()\n",
    "ax = plt.gca()\n",
    "ax.scatter(degrees_unique[1:], degrees_num[1:]/ degrees_num[:1].sum())\n",
    "ax.set_yscale('symlog')\n",
    "ax.set_xscale('symlog')\n",
    "\n",
    "print (degrees_unique)\n",
    "print (degrees_num[1:]/ degrees_num[:1].sum())"
   ]
  },
  {
   "cell_type": "code",
   "execution_count": 14,
   "metadata": {},
   "outputs": [
    {
     "data": {
      "text/plain": [
       "0.0014143541943343108"
      ]
     },
     "execution_count": 14,
     "metadata": {},
     "output_type": "execute_result"
    }
   ],
   "source": [
    "nx.average_clustering(js_network)"
   ]
  },
  {
   "cell_type": "code",
   "execution_count": 15,
   "metadata": {
    "collapsed": true
   },
   "outputs": [],
   "source": [
    "comps = nx.connected_component_subgraphs(js_network)"
   ]
  },
  {
   "cell_type": "code",
   "execution_count": 16,
   "metadata": {},
   "outputs": [
    {
     "data": {
      "text/plain": [
       "357624"
      ]
     },
     "execution_count": 16,
     "metadata": {},
     "output_type": "execute_result"
    }
   ],
   "source": [
    "max_comp = max(comps, key=len)\n",
    "len(max_comp.nodes())"
   ]
  },
  {
   "cell_type": "code",
   "execution_count": null,
   "metadata": {
    "collapsed": true
   },
   "outputs": [],
   "source": [
    "nx.diameter(max_comp)"
   ]
  },
  {
   "cell_type": "code",
   "execution_count": 48,
   "metadata": {},
   "outputs": [
    {
     "data": {
      "text/plain": [
       "(array([  3.57517000e+05,   7.70000000e+01,   1.20000000e+01,\n",
       "          8.00000000e+00,   5.00000000e+00,   1.00000000e+00,\n",
       "          1.00000000e+00,   1.00000000e+00,   0.00000000e+00,\n",
       "          2.00000000e+00]),\n",
       " array([  1.00000000e+00,   3.60000000e+02,   7.19000000e+02,\n",
       "          1.07800000e+03,   1.43700000e+03,   1.79600000e+03,\n",
       "          2.15500000e+03,   2.51400000e+03,   2.87300000e+03,\n",
       "          3.23200000e+03,   3.59100000e+03]),\n",
       " <a list of 10 Patch objects>)"
      ]
     },
     "execution_count": 48,
     "metadata": {},
     "output_type": "execute_result"
    },
    {
     "data": {
      "image/png": "[encoded data removed]",
      "text/plain": [
       "<matplotlib.figure.Figure at 0x1e1aa8601d0>"
      ]
     },
     "metadata": {},
     "output_type": "display_data"
    }
   ],
   "source": [
    "max_degrees_dict = max_comp.degree()\n",
    "max_degrees = np.asarray([ [key,max_degrees_dict[key]] for key in max_degrees_dict])\n",
    "plt.hist(max_degrees[:,1])"
   ]
  },
  {
   "cell_type": "code",
   "execution_count": 21,
   "metadata": {},
   "outputs": [
    {
     "data": {
      "text/plain": [
       "(array([   3909.,   13997.,   30264.,   56087.,   78004.,   99953.,\n",
       "         115933.,  119310.,  125317.,  122895.]),\n",
       " array([ 733259.18636554,  733590.08560206,  733920.98483857,\n",
       "         734251.88407508,  734582.78331159,  734913.68254811,\n",
       "         735244.58178462,  735575.48102113,  735906.38025765,\n",
       "         736237.27949416,  736568.17873067]),\n",
       " <a list of 10 Patch objects>)"
      ]
     },
     "execution_count": 21,
     "metadata": {},
     "output_type": "execute_result"
    },
    {
     "data": {
      "image/png": "[encoded data removed]",
      "text/plain": [
       "<matplotlib.figure.Figure at 0x2447d308908>"
      ]
     },
     "metadata": {},
     "output_type": "display_data"
    }
   ],
   "source": [
    "times_dict = nx.get_edge_attributes(js_network,'time')\n",
    "times = [datetime.datetime.strptime(val,\"%Y-%m-%dT%H:%M:%S.%f\") for key,val in times_dict.items()]\n",
    "plt.hist(times)"
   ]
  },
  {
   "cell_type": "code",
   "execution_count": 104,
   "metadata": {},
   "outputs": [
    {
     "name": "stdout",
     "output_type": "stream",
     "text": [
      "b'242 275 2008-08-05T04:28:21.983\\r\\n'\n",
      "b'570483 85882 2011-02-02T00:41:25.400\\r\\n'\n",
      "b'1004278 904428 2011-10-21T08:04:03.093\\r\\n'\n",
      "b'1177441 1381613 2012-05-08T09:00:39.127\\r\\n'\n",
      "b'1752849 721236 2012-10-17T14:24:22.690\\r\\n'\n",
      "b'1866810 1165998 2013-03-16T14:12:34.997\\r\\n'\n",
      "b'859154 2225682 2013-07-31T07:34:26.843\\r\\n'\n",
      "b'958596 1339987 2013-11-26T03:42:49.610\\r\\n'\n",
      "b'905376 182365 2014-03-10T15:07:36.963\\r\\n'\n",
      "b'3758172 16363 2014-06-24T20:14:36.373\\r\\n'\n",
      "b'1692715 544439 2014-10-17T20:00:46.097\\r\\n'\n",
      "b'697360 978320 2015-02-16T06:54:11.440\\r\\n'\n",
      "b'3166497 1785164 2015-05-31T21:23:58.293\\r\\n'\n",
      "b'390278 1348195 2015-09-07T07:13:05.803\\r\\n'\n",
      "b'569976 1588897 2015-12-19T00:11:11.190\\r\\n'\n",
      "b'2169274 1801452 2016-03-28T22:58:11.980\\r\\n'\n",
      "b'668499 2117911 2016-07-05T21:17:16.987\\r\\n'\n",
      "b'3624801 2806996 2016-10-19T19:12:17.753\\r\\n'\n",
      "b'7227057 5763993 2017-02-05T22:26:55.913\\r\\n'\n",
      "b'7130878 1593024 2017-05-16T03:35:13.880\\r\\n'\n"
     ]
    },
    {
     "data": {
      "text/plain": [
       "[0,\n",
       " 25787,\n",
       " 46685,\n",
       " 67142,\n",
       " 87180,\n",
       " 107713,\n",
       " 129444,\n",
       " 150657,\n",
       " 171365,\n",
       " 191943,\n",
       " 212925,\n",
       " 234235,\n",
       " 255289,\n",
       " 275304,\n",
       " 294926,\n",
       " 315199,\n",
       " 335605,\n",
       " 355842,\n",
       " 375821,\n",
       " 396373]"
      ]
     },
     "execution_count": 104,
     "metadata": {},
     "output_type": "execute_result"
    }
   ],
   "source": [
    "STEPS = 20\n",
    "networks = []\n",
    "with open(os.path.join(\"Tags\", \"javascript_ordered_list.json\"), 'rb') as f:\n",
    "    lines = f.readlines()\n",
    "    for i in range(STEPS):\n",
    "        end = int(len(lines)*i/STEPS)\n",
    "        print (lines[end])\n",
    "        networks.append(nx.read_edgelist(lines[:end], nodetype=int, data=(('time',str),)))\n",
    "[len(n.nodes()) for n in networks]"
   ]
  },
  {
   "cell_type": "code",
   "execution_count": 15,
   "metadata": {},
   "outputs": [
    {
     "data": {
      "text/plain": [
       "(array([  7.65573000e+05,   8.20000000e+01,   9.00000000e+00,\n",
       "          3.00000000e+00,   1.00000000e+00,   0.00000000e+00,\n",
       "          0.00000000e+00,   0.00000000e+00,   0.00000000e+00,\n",
       "          1.00000000e+00]),\n",
       " array([  -18. ,   137.6,   293.2,   448.8,   604.4,   760. ,   915.6,\n",
       "         1071.2,  1226.8,  1382.4,  1538. ]),\n",
       " <a list of 10 Patch objects>)"
      ]
     },
     "execution_count": 15,
     "metadata": {},
     "output_type": "execute_result"
    },
    {
     "data": {
      "image/png": "[encoded data removed]",
      "text/plain": [
       "<matplotlib.figure.Figure at 0x2446714a320>"
      ]
     },
     "metadata": {},
     "output_type": "display_data"
    }
   ],
   "source": [
    "votes_dict = nx.get_edge_attributes(js_network,'votes')\n",
    "votes = [val for key,val in votes_dict.items()]\n",
    "plt.hist(votes)"
   ]
  },
  {
   "cell_type": "code",
   "execution_count": null,
   "metadata": {
    "collapsed": true
   },
   "outputs": [],
   "source": []
  }
 ],
 "metadata": {
  "kernelspec": {
   "display_name": "Python [conda env:dataviz]",
   "language": "python",
   "name": "conda-env-dataviz-py"
  },
  "language_info": {
   "codemirror_mode": {
    "name": "ipython",
    "version": 3
   },
   "file_extension": ".py",
   "mimetype": "text/x-python",
   "name": "python",
   "nbconvert_exporter": "python",
   "pygments_lexer": "ipython3",
   "version": "3.6.2"
  }
 },
 "nbformat": 4,
 "nbformat_minor": 2
}
