{
 "cells": [
  {
   "cell_type": "markdown",
   "metadata": {},
   "source": [
    "# Data Fetching"
   ]
  },
  {
   "cell_type": "code",
   "execution_count": 2,
   "metadata": {
    "collapsed": true
   },
   "outputs": [],
   "source": [
    "import os\n",
    "import xml.etree.ElementTree as et\n",
    "import json\n",
    "import ijson\n",
    "from dateutil import parser"
   ]
  },
  {
   "cell_type": "code",
   "execution_count": 3,
   "metadata": {
    "collapsed": true
   },
   "outputs": [],
   "source": [
    "#posts_path = os.path.join(\"E:\", \"Uni\", \"DataViz\", \"DataSet\", \"Posts.xml\")\n",
    "#questions_path = os.path.join(\"E:\", \"Uni\", \"DataViz\", \"DataSet\", \"Questions.json\")\n",
    "#answers_path = os.path.join(\"E:\", \"Uni\", \"DataViz\", \"DataSet\", \"Answers.json\")\n",
    "#edge_list_path = os.path.join(\"E:\", \"Uni\", \"DataViz\", \"DataSet\", \"Edges.json\")\n",
    "#edge_list_tag_path = os.path.join(\"E:\", \"Uni\", \"DataViz\", \"DataSet\", \"Tags\")\n",
    "\n",
    "posts_path = os.path.join(\"Posts.xml\")\n",
    "questions_path = os.path.join(\"Questions.json\")\n",
    "answers_path = os.path.join(\"Answers.json\")\n",
    "edge_list_path = os.path.join(\"Edges.json\")\n",
    "edge_list_tag_path = os.path.join(\"Tags\")"
   ]
  },
  {
   "cell_type": "code",
   "execution_count": 3,
   "metadata": {},
   "outputs": [
    {
     "data": {
      "text/plain": [
       "'Posts.xml'"
      ]
     },
     "execution_count": 3,
     "metadata": {},
     "output_type": "execute_result"
    }
   ],
   "source": [
    "posts_path"
   ]
  },
  {
   "cell_type": "code",
   "execution_count": 4,
   "metadata": {
    "collapsed": true
   },
   "outputs": [],
   "source": [
    "with open(questions_path, 'w') as q, open(answers_path, 'w') as a:\n",
    "    q.write(\"{\")\n",
    "    a.write(\"{\")\n",
    "    firstQ = True\n",
    "    firstA = True\n",
    "    for event, elem in et.iterparse(posts_path):\n",
    "        if elem.tag == \"row\":\n",
    "            try:\n",
    "                parsed = {}\n",
    "                parsed[\"id\"] = elem.attrib[\"Id\"]\n",
    "                parsed[\"owner_id\"] = elem.attrib[\"OwnerUserId\"]\n",
    "                parsed[\"time\"] = elem.attrib[\"CreationDate\"]\n",
    "                parsed[\"votes\"] = elem.attrib[\"Score\"]\n",
    "                try:                    \n",
    "                    parsed[\"tags\"] = elem.attrib[\"Tags\"]\n",
    "                except KeyError:\n",
    "                    parsed[\"tags\"] = \"\"\n",
    "                if elem.attrib[\"PostTypeId\"] == \"1\":\n",
    "                    parsed[\"ref\"] = elem.attrib[\"AcceptedAnswerId\"]\n",
    "                    if not firstQ:\n",
    "                        q.write(\",\\n\")\n",
    "                    else:\n",
    "                        firstQ = False\n",
    "                    q.write( \"\\\"\" + parsed[\"id\"] + \"\\\":\" + json.dumps(parsed))\n",
    "                else :                    \n",
    "                    parsed[\"ref\"] = elem.attrib[\"ParentId\"]\n",
    "                    if not firstA:\n",
    "                        a.write(\",\\n\")\n",
    "                    else:\n",
    "                        firstA = False\n",
    "                    a.write( \"\\\"\" + parsed[\"ref\"] + \"\\\":\" + json.dumps(parsed))\n",
    "            except KeyError as e:\n",
    "                pass\n",
    "                # ignore posts without answer for now\n",
    "                # ignore posts without user id\n",
    "        elem.clear()\n",
    "    q.write(\"}\")\n",
    "    a.write(\"}\")"
   ]
  },
  {
   "cell_type": "code",
   "execution_count": 4,
   "metadata": {},
   "outputs": [],
   "source": [
    "# create edge list\n",
    "with open(questions_path, 'r') as q, open(answers_path, 'r') as a, open(edge_list_path,'w') as e:\n",
    "    questions = json.load(q)\n",
    "    answers = json.load(a)\n",
    "    e.write(\"{ \\\"edges\\\":[\")\n",
    "    first = True\n",
    "    for question in questions:\n",
    "        if question in answers:\n",
    "            answer = answers[question]\n",
    "            if not first:\n",
    "                e.write(\",\\n\")\n",
    "            else:\n",
    "                first = False\n",
    "            e.write(json.dumps({'q_id':questions[question][\"owner_id\"], 'a_id':answer[\"owner_id\"], 'time':answer[\"time\"], 'tags':questions[question][\"tags\"], \"votes\":answer[\"votes\"]}))\n",
    "    e.write(\"]}\")"
   ]
  },
  {
   "cell_type": "code",
   "execution_count": 5,
   "metadata": {
    "collapsed": true
   },
   "outputs": [],
   "source": [
    "# split in file for each tag\n",
    "for the_file in os.listdir(edge_list_tag_path):\n",
    "    file_path = os.path.join(edge_list_tag_path, the_file)\n",
    "    try:\n",
    "        if os.path.isfile(file_path):\n",
    "            os.unlink(file_path)\n",
    "    except Exception as e:\n",
    "        print(e)\n",
    "\n",
    "\n",
    "with open(edge_list_path,'r') as e:\n",
    "    edges = ijson.items(e, \"edges.item\")\n",
    "    for edge in edges:\n",
    "        # split tags\n",
    "        tags = [s.replace(\"<\", \"\").replace(\">\",\"\") for s in edge[\"tags\"].split(\"><\")]\n",
    "        edge.pop('tags', None)\n",
    "        for tag in tags:\n",
    "            with open(os.path.join(edge_list_tag_path, \"{}.json\".format(tag)), 'a') as e_tag:\n",
    "                e_tag.write(json.dumps(edge)+\"\\n\")"
   ]
  },
  {
   "cell_type": "code",
   "execution_count": 6,
   "metadata": {
    "collapsed": true
   },
   "outputs": [],
   "source": [
    "# proper json\n",
    "for the_file in os.listdir(edge_list_tag_path):\n",
    "    file_path = os.path.join(edge_list_tag_path, the_file)\n",
    "    with open(file_path,'r+') as e:\n",
    "        content = e.read()\n",
    "        content = content.replace(\"}\\n{\", \"},\\n{\")\n",
    "        e.seek(0, 0)\n",
    "        e.write( \"{ \\\"edges\\\":[\" + '\\n' + content)\n",
    "        e.write(\"]}\")"
   ]
  },
  {
   "cell_type": "code",
   "execution_count": 8,
   "metadata": {
    "collapsed": true
   },
   "outputs": [],
   "source": [
    "# order by time\n",
    "for the_file in os.listdir(edge_list_tag_path):\n",
    "    if \"_ordered\" in the_file or \"_list\" in the_file:\n",
    "        continue\n",
    "    file_path = os.path.join(edge_list_tag_path, the_file)\n",
    "    file_ordered_path = os.path.join(edge_list_tag_path, the_file.replace(\".json\", \"_ordered.json\"))\n",
    "    with open(file_path,'r') as e, open(file_ordered_path,'w') as e_ordered:\n",
    "        edges = json.load(e)\n",
    "        edges[\"edges\"].sort(key=lambda elem: parser.parse(elem[\"time\"]))\n",
    "        e_ordered.write(json.dumps(edges))"
   ]
  },
  {
   "cell_type": "code",
   "execution_count": 13,
   "metadata": {},
   "outputs": [],
   "source": [
    "for the_file in os.listdir(edge_list_tag_path):\n",
    "    if not \"_ordered.json\" in the_file:\n",
    "        continue\n",
    "    file_path = os.path.join(edge_list_tag_path, the_file)\n",
    "    list_path = os.path.join(edge_list_tag_path, the_file.replace(\".json\", \"_list.txt\"))\n",
    "    with open(file_path,'r') as e, open(list_path,'w') as l:\n",
    "        edges = ijson.items(e, \"edges.item\")\n",
    "        for edge in edges:\n",
    "            l.write(edge[\"q_id\"]+ \" \" + edge[\"a_id\"]+ \" \"+ edge[\"time\"]+ \" \"+ edge[\"votes\"]+ \"\\n\")"
   ]
  },
  {
   "cell_type": "code",
   "execution_count": null,
   "metadata": {
    "collapsed": true
   },
   "outputs": [],
   "source": []
  }
 ],
 "metadata": {
  "kernelspec": {
   "display_name": "Python [default]",
   "language": "python",
   "name": "python3"
  },
  "language_info": {
   "codemirror_mode": {
    "name": "ipython",
    "version": 3
   },
   "file_extension": ".py",
   "mimetype": "text/x-python",
   "name": "python",
   "nbconvert_exporter": "python",
   "pygments_lexer": "ipython3",
   "version": "3.6.2"
  }
 },
 "nbformat": 4,
 "nbformat_minor": 2
}
